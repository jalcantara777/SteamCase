{
 "cells": [
  {
   "cell_type": "markdown",
   "metadata": {},
   "source": [
    "# **FUNCTIONS**\n",
    "\n",
    "Este notebook contiene las funciones principales (las 5 solicitadas en el caso) y secundarias que sirven como soporte para las principales como algoritmo representativo para la creación de los datasets finales guardados en \n",
    "formato CSV para su posterior lectura en el módulo principal (main.py) y sea usado para brindar el servicio al \n",
    "mundo entero.\n",
    "\n",
    "Por lo tanto, se debe realizar la siguiente aclaración, si bien las secciones tienen el nombre, incluso la sintaxis\n",
    "solicitada en el caso, no son los definitivos usados en el API framework, sino fueron puestos para servir de guía \n",
    "al momento de generar los CSV finales guardados en la carpeta \"Data4_FuncReturn2API\" y que serán cargados por el \n",
    "módulo principal main.py."
   ]
  },
  {
   "cell_type": "code",
   "execution_count": 15,
   "metadata": {},
   "outputs": [],
   "source": [
    "## Se importan las librerías necesarias para esta etapa de la definición de funciones y creación de CSV finales\n",
    "import pandas as pd\n",
    "import html\n",
    "from sklearn.feature_extraction.text import CountVectorizer\n",
    "from sklearn.metrics.pairwise import cosine_similarity"
   ]
  },
  {
   "cell_type": "code",
   "execution_count": 16,
   "metadata": {},
   "outputs": [],
   "source": [
    "## Carga de archivos CSV generados en la etapa ETL-EDA\n",
    "\n",
    "df_games = pd.read_csv(\"Data3_EDA_out\\\\EDA_games.csv\")\n",
    "df_reviews = pd.read_csv(\"Data3_EDA_out\\\\EDA_reviews.csv\")\n",
    "df_items = pd.read_csv(\"Data3_EDA_out\\\\EDA_items.csv\")\n",
    "df_Gral_UserRec = pd.read_csv(\"Data3_EDA_out\\\\SentimAnalysis.csv\")"
   ]
  },
  {
   "cell_type": "markdown",
   "metadata": {},
   "source": [
    "\n",
    "# PlayTimeGenre\n",
    "\n",
    "def PlayTimeGenre( genero : str ): Debe devolver año con más horas jugadas para dicho género.\n"
   ]
  },
  {
   "cell_type": "code",
   "execution_count": 17,
   "metadata": {},
   "outputs": [],
   "source": [
    "## Antes de crear la función, primero preparar el dataframe para mejorar el rendimiento de la función\n",
    "playtime_item = df_items.groupby('item_id')['playtime_forever'].sum().reset_index()\n",
    "df_merge = pd.merge(df_games, playtime_item, on='item_id', how='inner')\n",
    "df_PlayTimeGenre = df_merge[[\"genres\",\"release_year\",\"playtime_forever\"]]\n",
    "df_PlayTimeGenre =df_PlayTimeGenre.dropna()"
   ]
  },
  {
   "cell_type": "code",
   "execution_count": 18,
   "metadata": {},
   "outputs": [],
   "source": [
    "## CREACIÓN DE LA FUNCIÓN 1 PARA LA API\n",
    "def PlayTimeGenre(genre : str):\n",
    "    # Filtrar el DataFrame para obtener sÓlo las filas que contienen el género específico\n",
    "    df_filtered  = df_PlayTimeGenre[df_PlayTimeGenre.genres.str.contains(genre)]\n",
    "    df_grouped = df_filtered.groupby('release_year')['playtime_forever'].sum().reset_index()\n",
    "    \n",
    "    # Encontrar el año con la mayor suma de 'playtime_forever'\n",
    "    df_grouped['release_year'] = df_grouped['release_year'].astype(int)\n",
    "    sum_max_year = df_grouped.loc[df_grouped['playtime_forever'].idxmax(), 'release_year']\n",
    "    \n",
    "    return sum_max_year "
   ]
  },
  {
   "cell_type": "code",
   "execution_count": 19,
   "metadata": {},
   "outputs": [],
   "source": [
    "## CREACIÓN DEL CSV DE CONSULTA 1 OPTIMIZADA PARA LA API\n",
    "df_PlayTimeForever=pd.read_csv('Data3_EDA_out\\genres.csv')\n",
    "df_PlayTimeForever['maxplaytime_year'] = df_PlayTimeForever['genre'].apply(lambda x: PlayTimeGenre(x))\n",
    "df_PlayTimeForever.to_csv('Data4_FuncReturn2API\\PlayTimeForever.csv',index=False)"
   ]
  },
  {
   "cell_type": "markdown",
   "metadata": {},
   "source": [
    "\n",
    "# UserForGenre\n",
    "\n",
    "def UserForGenre( genero : str ): Debe devolver el usuario que acumula más horas jugadas para el género dado y una lista de la acumulación de horas jugadas por año."
   ]
  },
  {
   "cell_type": "code",
   "execution_count": 20,
   "metadata": {},
   "outputs": [],
   "source": [
    "## Antes de crear la función, primero preparar el dataframe para mejorar el rendimiento de la función\n",
    "df_UserForGenre = pd.merge(df_items,df_games[[\"item_id\",\"genres\",\"release_year\"]], on = \"item_id\")\n",
    "df_UserForGenre =df_UserForGenre[[\"user_id\",\"genres\",\"release_year\",\"playtime_forever\"]]\n",
    "\n",
    "# Eliminar las filas que no tienen minutos jugados para agilizar los procesos de iteración\n",
    "df_UserForGenre=df_UserForGenre[df_UserForGenre.playtime_forever>0]\n",
    "\n",
    "# Reemplazar los caracteres de escape presentes en la columna GENRES\n",
    "df_UserForGenre.genres=df_UserForGenre.genres.apply(lambda x: html.unescape(x))"
   ]
  },
  {
   "cell_type": "code",
   "execution_count": 21,
   "metadata": {},
   "outputs": [],
   "source": [
    "def UserForGenre(genre: str,retval=1):\n",
    "    # Filtrar el DataFrame para el género especificado\n",
    "    #filtro_genero = df_UserForGenre['genres'].str.contains(genre, case=False, na=False)\n",
    "    df_filtered  = df_UserForGenre[df_UserForGenre.genres.str.contains(genre)]\n",
    "\n",
    "    # Agrupar por 'user_id' y 'year', sumar las horas jugadas\n",
    "    df_grouped = df_filtered.groupby(['user_id', 'release_year'])['playtime_forever'].sum().reset_index()\n",
    "    \n",
    "    # Conversión de las sumas de los minutos jugados a HORAS enteras redondeado\n",
    "    df_grouped.playtime_forever=df_grouped.playtime_forever.apply(lambda x: round(x / 60))\n",
    "    \n",
    "    # Eliminar las filas que no tienen HORAS jugadas para agilizar los procesos de iteración\n",
    "    df_grouped=df_grouped[df_grouped.playtime_forever>0]\n",
    "\n",
    "    # Encontrar el usuario con la máxima suma de horas jugadas\n",
    "    max_playtime_usr = df_grouped.loc[df_grouped.playtime_forever.idxmax(), 'user_id']\n",
    "    if retval==1:\n",
    "        return max_playtime_usr\n",
    "    else:\n",
    "    \n",
    "        # Filtrar el DataFrame para el usuario con máxima suma de horas jugadas\n",
    "        df_usuario = df_grouped[df_grouped.user_id == max_playtime_usr]\n",
    "\n",
    "        # Crear el formato \"Horas jugadas\"\n",
    "        resultado_final = [{'Año': int(row['release_year']), 'Horas': int(row['playtime_forever'])} for _, row in df_usuario.iterrows()]\n",
    "    \n",
    "        return f\"Horas jugadas: {resultado_final}\"\n"
   ]
  },
  {
   "cell_type": "code",
   "execution_count": 22,
   "metadata": {},
   "outputs": [],
   "source": [
    "## CREACIÓN DEL CSV DE CONSULTA 2 OPTIMIZADA PARA LA API\n",
    "df_UserForGenre_csv=pd.read_csv('Data3_EDA_out\\genres.csv')\n",
    "df_UserForGenre_csv['user'] = df_UserForGenre_csv['genre'].apply(lambda x: UserForGenre(x))\n",
    "df_UserForGenre_csv['list_played_hours'] = df_UserForGenre_csv['genre'].apply(lambda x: UserForGenre(x,2))\n",
    "df_UserForGenre_csv.to_csv('Data4_FuncReturn2API\\\\UsersForGenre.csv',index=False)"
   ]
  },
  {
   "cell_type": "markdown",
   "metadata": {},
   "source": [
    "# UsersRecommend\n",
    "\n",
    "def UsersRecommend( año : int ): Devuelve el top 3 de juegos MÁS recomendados por usuarios para el año dado. (reviews.recommend = True y comentarios positivos/neutrales)\n"
   ]
  },
  {
   "cell_type": "code",
   "execution_count": 23,
   "metadata": {},
   "outputs": [],
   "source": [
    "## Antes de crear la función, primero preparar el dataframe para mejorar el rendimiento de la función\n",
    "df_UserRecommend = df_Gral_UserRec[df_Gral_UserRec.recommend]\n",
    "df_UserRecommend = df_UserRecommend.groupby(['posted_year', 'app_name']).sum().reset_index()\n",
    "df_UserRecommend.drop(columns=['recommend','item_id','user_id'], inplace=True)\n",
    "df_UserRecommend['points'] = df_UserRecommend.Positivo+df_UserRecommend.Neutro\n",
    "df_UserRecommend = df_UserRecommend.sort_values(by=['posted_year', 'points'],ascending=[True, False])"
   ]
  },
  {
   "cell_type": "code",
   "execution_count": 24,
   "metadata": {},
   "outputs": [],
   "source": [
    "## CREACIÓN DE LA FUNCIÓN QUE ME DEVUELVE LOS JUEGOS TOP3, TANTO SUPERIORES COMO INFERIORES SEGÚN df_qry\n",
    "def top3_games(year: int, df_qry, topnum=1):\n",
    "    # filtrar los 3 juegos más recomendados del año ingresado\n",
    "    games_top3=df_qry[(df_qry.posted_year == year)].head(3)\n",
    "\n",
    "    # los 3 nombres de los juegos se envían a una lista\n",
    "    lst_gametop3 =games_top3.app_name.to_list()\n",
    "\n",
    "    if len(lst_gametop3)<topnum:\n",
    "        # se devolverá vacío si no se han realizado más buenas o malas recomendaciones según el dataframe ingresado\n",
    "        return '-'\n",
    "    else:\n",
    "        # se devolverá el número de lugar en el top según se indique con topnum\n",
    "        return lst_gametop3[topnum-1]"
   ]
  },
  {
   "cell_type": "code",
   "execution_count": 25,
   "metadata": {},
   "outputs": [],
   "source": [
    "## CREACIÓN DEL CSV DE CONSULTA 3 OPTIMIZADA PARA LA API\n",
    "df_UR2API = df_UserRecommend.groupby(['posted_year']).sum().reset_index()\n",
    "df_UR2API = df_UR2API[['posted_year']]\n",
    "df_UR2API['usrrec_game1'] = df_UR2API.posted_year.apply(lambda x: top3_games(x,df_UserRecommend))\n",
    "df_UR2API['usrrec_game2'] = df_UR2API.posted_year.apply(lambda x: top3_games(x,df_UserRecommend,2))\n",
    "df_UR2API['usrrec_game3'] = df_UR2API.posted_year.apply(lambda x: top3_games(x,df_UserRecommend,3))\n",
    "df_UR2API.to_csv('Data4_FuncReturn2API\\\\UsersRecforYear.csv',index=False)"
   ]
  },
  {
   "cell_type": "markdown",
   "metadata": {},
   "source": [
    "# UsersNotRecommend\n",
    "\n",
    "def UsersRecommend( año : int ): Devuelve el top 3 de juegos MENOS recomendados por usuarios para el año dado. (reviews.recommend = False y comentarios negativos)"
   ]
  },
  {
   "cell_type": "code",
   "execution_count": 26,
   "metadata": {},
   "outputs": [],
   "source": [
    "## Antes de crear la función, primero preparar el dataframe para mejorar el rendimiento de la función\n",
    "df_UserNotRecommend = df_Gral_UserRec[~df_Gral_UserRec.recommend]\n",
    "df_UserNotRecommend = df_UserNotRecommend.groupby(['posted_year', 'app_name']).sum().reset_index()\n",
    "df_UserNotRecommend.drop(columns=['recommend','item_id','user_id','Neutro','Positivo'], inplace=True)\n",
    "df_UserNotRecommend = df_UserNotRecommend.sort_values(by=['posted_year', 'Negativo'],ascending=[True, False])"
   ]
  },
  {
   "cell_type": "code",
   "execution_count": 27,
   "metadata": {},
   "outputs": [],
   "source": [
    "## CREACIÓN DEL CSV DE CONSULTA 4 OPTIMIZADA PARA LA API\n",
    "df_UNR2API = df_UserNotRecommend.groupby(['posted_year']).sum().reset_index()\n",
    "df_UNR2API = df_UNR2API[['posted_year']]\n",
    "df_UNR2API['usrnrec_game1'] = df_UNR2API.posted_year.apply(lambda x: top3_games(x,df_UserNotRecommend))\n",
    "df_UNR2API['usrnrec_game2'] = df_UNR2API.posted_year.apply(lambda x: top3_games(x,df_UserNotRecommend,2))\n",
    "df_UNR2API['usrnrec_game3'] = df_UNR2API.posted_year.apply(lambda x: top3_games(x,df_UserNotRecommend,3))\n",
    "df_UNR2API.to_csv('Data4_FuncReturn2API\\\\UsersNotRecforYear.csv',index=False)"
   ]
  },
  {
   "cell_type": "markdown",
   "metadata": {},
   "source": [
    "## Sentiment_Analysis ##\n",
    "\n",
    "def sentiment_analysis( año : int ): Según el año de lanzamiento, se devuelve una lista con la cantidad de registros de reseñas de usuarios que se encuentren categorizados con un análisis de sentimiento."
   ]
  },
  {
   "cell_type": "code",
   "execution_count": 28,
   "metadata": {},
   "outputs": [],
   "source": [
    "## CREACIÓN DE LA CATEGORIZACIÓN DEL ANÁLISIS DE SENTIMIENTO DEL USUARIO SOBRE UN JUEGO DETERMINADO\n",
    "df_gamerev_SA = df_reviews.groupby(['item_id', 'sentiment_analysis']).size().unstack(fill_value=0)\n",
    "df_gamerev_SA = df_gamerev_SA.reset_index(drop=False)\n",
    "df_gamerev_SA.columns = [\"item_id\",'Negativo', 'Neutro',\"Positivo\"]"
   ]
  },
  {
   "cell_type": "code",
   "execution_count": 29,
   "metadata": {},
   "outputs": [],
   "source": [
    "## CREACIÓN DEL CSV DE CONSULTA 5 OPTIMIZADA PARA LA API\n",
    "df_Sentiment_Analysis = pd.merge(df_gamerev_SA,df_games[[\"item_id\",\"release_year\"]], on=\"item_id\", how=\"inner\")\n",
    "df_SA_grouped = df_Sentiment_Analysis.groupby(['release_year']).sum().reset_index()\n",
    "df_SA_API = df_SA_grouped.drop(columns=['item_id'])\n",
    "df_SA_API.to_csv('Data4_FuncReturn2API\\\\SentAnalyforYear.csv',index=False)"
   ]
  },
  {
   "cell_type": "markdown",
   "metadata": {},
   "source": [
    "# Machine Learning\n",
    "\n",
    "Para el presente caso, se solicitó cualesquiera de los dos principales modelos de sistemas de recomendación estudiados, es decir los de item-item y el user-item. Yo escogí el segundo.\n",
    "\n",
    "Por lo tanto, para poder entrenar a mi modelo para este sistema de recomendación se debe aplicar el filtro user-item, esto es tomar un usuario, se encuentran usuarios similares y se recomiendan ítems que a esos usuarios similares les gustaron. En este caso el input es un usuario y el output es una lista de juegos que se le recomienda a ese usuario, en general se explican como “A usuarios que son similares a tí también les gustó…”.\n",
    "\n",
    "El modelo debe seguir el siguiente formato:\n",
    "\n",
    "def recomendacion_usuario( id de usuario ): Ingresando el id de un usuario, deberíamos recibir una lista con 5 juegos recomendados para dicho usuario."
   ]
  },
  {
   "cell_type": "code",
   "execution_count": 30,
   "metadata": {},
   "outputs": [],
   "source": [
    "# Arreglo de los dataframes para el sistema de recomendacion \n",
    "df_sentanaly = pd.read_csv('Data3_EDA_out\\\\SentimAnalysis.csv')\n",
    "df_SAusr_group = df_sentanaly.groupby(['user_id']).sum().reset_index()\n",
    "recom_maxnum= df_SAusr_group.recommend.max()\n",
    "df_RecUsr_API = df_SAusr_group[df_SAusr_group.recommend==recom_maxnum]\n",
    "df_RecUsr_API = df_RecUsr_API[['user_id']]"
   ]
  },
  {
   "cell_type": "code",
   "execution_count": 31,
   "metadata": {},
   "outputs": [],
   "source": [
    "## CREACIÓN DE LA FUNCIÓN QUE SERVIRÁ PARA APLICAR EL MODELO DE ML\n",
    "def recomendacion_usuario(user_id :str):\n",
    "    # Construye una matriz de usuarios y juegos\n",
    "    user_game_matrix = pd.crosstab(df_sentanaly.user_id, df_sentanaly.app_name)\n",
    "\n",
    "    if user_id in user_game_matrix.index:\n",
    "        # Encuentra el índice del usuario en la matriz\n",
    "        user_index = user_game_matrix.index.get_loc(user_id)\n",
    "    else:\n",
    "        # user_id no está en el índice\n",
    "        print(\"El user_id no está presente en el índice.\")\n",
    "        return None\n",
    "\n",
    "    # Calcula la similitud de coseno entre los usuarios\n",
    "    cosine_similarities = cosine_similarity(user_game_matrix, user_game_matrix)\n",
    "\n",
    "    # Obtiene las similitudes de coseno para el usuario dado\n",
    "    similar_users = cosine_similarities[user_index]\n",
    "\n",
    "    # Encuentra los juegos que el usuario no ha jugado\n",
    "    games_played = user_game_matrix.loc[user_id]\n",
    "    unrated_games = games_played[games_played == 0].index\n",
    "\n",
    "    # Calcula las puntuaciones de recomendación sumando las similitudes de usuarios para los juegos no jugados\n",
    "    recommendation_scores = user_game_matrix.loc[:, unrated_games].multiply(similar_users, axis=0).sum(axis=0)\n",
    "\n",
    "    # Ordena las recomendaciones por puntuación descendente\n",
    "    recommendations = recommendation_scores.sort_values(ascending=False).index.tolist()\n",
    "\n",
    "    # Obtiene la lista de los primeros 5 juegos\n",
    "    top_recommendations = recommendations[:5]\n",
    "\n",
    "    return top_recommendations"
   ]
  },
  {
   "cell_type": "code",
   "execution_count": 32,
   "metadata": {},
   "outputs": [],
   "source": [
    "## CREACIÓN DEL CSV DE CONSULTA 6 OPTIMIZADA PARA LA API\n",
    "df_RecUsr_API['lst_rg5'] = df_RecUsr_API.user_id.apply(lambda x: recomendacion_usuario(x))\n",
    "df_RecUsr_API.to_csv('Data4_FuncReturn2API\\\\RecGame5forUser.csv',index=False)"
   ]
  }
 ],
 "metadata": {
  "kernelspec": {
   "display_name": "Python 3",
   "language": "python",
   "name": "python3"
  },
  "language_info": {
   "codemirror_mode": {
    "name": "ipython",
    "version": 3
   },
   "file_extension": ".py",
   "mimetype": "text/x-python",
   "name": "python",
   "nbconvert_exporter": "python",
   "pygments_lexer": "ipython3",
   "version": "3.11.4"
  }
 },
 "nbformat": 4,
 "nbformat_minor": 2
}
