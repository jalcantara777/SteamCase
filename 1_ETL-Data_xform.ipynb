{
  "cells": [
    {
      "cell_type": "markdown",
      "metadata": {
        "id": "QxLgHtfSYqTi"
      },
      "source": [
        "## **ETL: Initial Data Transform**\n",
        "\n",
        "_PRIMERA FASE_\n",
        "\n",
        "En esta fase, se realizará las primeras y elementales transformaciones que se realizan a los datos inmediatamente después de haber sido leídos desde la fuente principal. También se realizan los desempaquetados de las columnas anidadas.\n",
        "Finalmente, al final se generará un dataset que será guardado en archivos CSV que serán utilizados por el siguiente notebook: EDA.\n"
      ]
    },
    {
      "cell_type": "code",
      "execution_count": 1,
      "metadata": {
        "id": "OOob8b9bMQi-"
      },
      "outputs": [],
      "source": [
        "## Se importan las librerías necesarias para esta primera fase de transformación de datos\n",
        "import pandas as pd\n",
        "import ast\n",
        "import html\n",
        "from datetime import datetime"
      ]
    },
    {
      "cell_type": "code",
      "execution_count": 2,
      "metadata": {},
      "outputs": [],
      "source": [
        "## Se crea una función para leer archivos JSON anidados y con codificación de página UTF-8\n",
        "def df_read_nestedjson(file_withpath):\n",
        "    data = []\n",
        "    with open(file_withpath, \"r\", encoding=\"UTF-8\") as file:\n",
        "        for line in file:\n",
        "            data.append(ast.literal_eval(line))\n",
        "    return pd.DataFrame(data)"
      ]
    },
    {
      "cell_type": "markdown",
      "metadata": {},
      "source": [
        "Antes de proceder a cargar los archivos JSON que se encontraban comprimidos en formato GZ\n",
        "se procedió a descomprimirlos con el utilitario Winrar y también se cambiaron sus nombres para que sean\n",
        "prácticamente identificables:\n",
        "\n",
        "- GAMES:      output_steam_games.json       ->    steam_games.json\n",
        "- REVIEWS:    australian_user_reviews.json  ->    user_reviews.json\n",
        "- ITEMS:      australian_user_items.json    ->    user_items.json\n",
        "\n",
        "y se colocaron en la carpeta: Data1_SteamServer"
      ]
    },
    {
      "cell_type": "code",
      "execution_count": 4,
      "metadata": {},
      "outputs": [],
      "source": [
        "\n",
        "## Se cargan los datos ORIGINALES en formato JSON a sus respectivos DataFrames. Los 2 últimos son anidados.\n",
        "df_games  = pd.read_json('Data1_SteamServer\\steam_games.json', lines=True)\n",
        "df_reviews = df_read_nestedjson('Data1_SteamServer\\\\user_reviews.json')\n",
        "df_items   = df_read_nestedjson('Data1_SteamServer\\\\users_items.json')"
      ]
    },
    {
      "cell_type": "code",
      "execution_count": 5,
      "metadata": {
        "id": "eaR5QJlfdHtS"
      },
      "outputs": [],
      "source": [
        "## Se limpian los Dataframes eliminando los registros completamente vacíos\n",
        "df_games.dropna(how=\"all\", inplace=True)\n",
        "df_reviews.dropna(how=\"all\", inplace=True)\n",
        "df_items.dropna(how=\"all\", inplace=True)"
      ]
    },
    {
      "cell_type": "code",
      "execution_count": 6,
      "metadata": {},
      "outputs": [],
      "source": [
        "## Se limpian los Dataframes eliminando los registros duplicados\n",
        "df_games.drop_duplicates(subset=['title'], inplace=True)\n",
        "df_reviews.drop_duplicates(subset=['user_id'], inplace=True)\n",
        "df_items.drop_duplicates(subset=['user_id'], inplace=True)"
      ]
    },
    {
      "cell_type": "code",
      "execution_count": 7,
      "metadata": {},
      "outputs": [],
      "source": [
        "## Se generan las respectivas copias de seguridad de los dataframes creados\n",
        "df_games_bkup   = df_games.copy()\n",
        "df_reviews_bkup = df_reviews.copy()\n",
        "df_items_bkup   = df_items.copy()"
      ]
    },
    {
      "cell_type": "markdown",
      "metadata": {},
      "source": [
        "_SEGUNDA FASE_\n"
      ]
    },
    {
      "cell_type": "code",
      "execution_count": 8,
      "metadata": {},
      "outputs": [],
      "source": [
        "## Recuperación de los datos guardados en la copia de seguridad\n",
        "df_games   = df_games_bkup.copy()\n",
        "df_reviews = df_reviews_bkup.copy()\n",
        "df_items   = df_items_bkup.copy()"
      ]
    },
    {
      "cell_type": "code",
      "execution_count": 9,
      "metadata": {},
      "outputs": [
        {
          "name": "stdout",
          "output_type": "stream",
          "text": [
            "df_games = ['publisher', 'genres', 'app_name', 'title', 'url', 'release_date', 'tags', 'reviews_url', 'specs', 'price', 'early_access', 'id', 'developer']\n",
            "df_reviews = ['user_id', 'user_url', 'reviews']\n",
            "df_items = ['user_id', 'items_count', 'steam_id', 'user_url', 'items']\n"
          ]
        }
      ],
      "source": [
        "print(\"df_games = [\" + \", \".join([\"'\" + col + \"'\" for col in df_games.columns]) + \"]\")\n",
        "print(\"df_reviews = [\" + \", \".join([\"'\" + col + \"'\" for col in df_reviews.columns]) + \"]\")\n",
        "print(\"df_items = [\" + \", \".join([\"'\" + col + \"'\" for col in df_items.columns]) + \"]\")"
      ]
    },
    {
      "cell_type": "code",
      "execution_count": 10,
      "metadata": {},
      "outputs": [],
      "source": [
        "## ELIMINACIÓN DE COLUMNAS NIVEL 1\n",
        "\n",
        "## Después de revisar el diccionario de datos y tras la evaluación de los campos necesarios para los modelos\n",
        "## decidí eliminar columnas PRIMARIAS innecesarias por estar duplicadas o contener datos irrevelantes\n",
        "\n",
        "df_games   = df_games.drop(columns= ['publisher','title','url','reviews_url','specs','price','early_access','developer'])\n",
        "df_reviews = df_reviews.drop(columns=['user_url'])\n",
        "df_items   = df_items.drop(columns=['steam_id','user_url'])"
      ]
    },
    {
      "cell_type": "code",
      "execution_count": 11,
      "metadata": {},
      "outputs": [],
      "source": [
        "## DESEMPAQUETADO DE CAMPOS ANIDADOS SEGUNDO NIVEL\n",
        "\n",
        "'''df_reviews'''\n",
        "\n",
        "# Desempaquetado de columna anidada REVIEWS, y desglose por USER_ID\n",
        "reviews_nested = []\n",
        "for index, row in df_reviews.iterrows():\n",
        "  user_id = row['user_id']\n",
        "  for reviews_dict in row['reviews']:\n",
        "    review_data = {'user_id': user_id, **reviews_dict}\n",
        "    reviews_nested.append(review_data)\n",
        "df_reviews = pd.DataFrame(reviews_nested)\n",
        "\n",
        "'''df_items'''\n",
        "\n",
        "# Desempaquetado de columna anidada ITEMS, y desglose por USER_ID\n",
        "items_nested = []\n",
        "for index, row in df_items.iterrows():\n",
        "  user_id   = row['user_id']\n",
        "  items_count = row['items_count']\n",
        "  for items_dict in row['items']:\n",
        "    item_data = {'user_id': user_id, 'items_count': items_count, **items_dict}\n",
        "    items_nested.append(item_data)\n",
        "df_items = pd.DataFrame(items_nested)"
      ]
    },
    {
      "cell_type": "code",
      "execution_count": 12,
      "metadata": {},
      "outputs": [],
      "source": [
        "# GUARDAR LOS DATOS EN ARCHIVOS CSV\n",
        "df_games.to_csv('Data2_ETL_out\\\\ETL_games.csv', index=False)\n",
        "df_reviews.to_csv('Data2_ETL_out\\\\ETL_reviews.csv', index=False)\n",
        "df_items.to_csv('Data2_ETL_out\\\\ETL_items.csv', index=False)"
      ]
    }
  ],
  "metadata": {
    "colab": {
      "provenance": []
    },
    "kernelspec": {
      "display_name": "Python 3",
      "name": "python3"
    },
    "language_info": {
      "codemirror_mode": {
        "name": "ipython",
        "version": 3
      },
      "file_extension": ".py",
      "mimetype": "text/x-python",
      "name": "python",
      "nbconvert_exporter": "python",
      "pygments_lexer": "ipython3",
      "version": "3.11.4"
    }
  },
  "nbformat": 4,
  "nbformat_minor": 0
}
